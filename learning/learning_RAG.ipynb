{
 "cells": [
  {
   "cell_type": "code",
   "execution_count": 51,
   "metadata": {},
   "outputs": [],
   "source": [
    "import os\n",
    "from langchain_community.llms import Ollama\n",
    "from dotenv import load_dotenv\n",
    "from langchain_community.embeddings import OllamaEmbeddings\n",
    "from langchain.document_loaders import TextLoader\n",
    "from langchain.text_splitter import RecursiveCharacterTextSplitter\n",
    "from langchain.vectorstores import Chroma\n",
    "from langchain.chains import create_retrieval_chain\n",
    "from langchain import hub\n",
    "from langchain.chains.combine_documents import create_stuff_documents_chain"
   ]
  },
  {
   "cell_type": "code",
   "execution_count": 52,
   "metadata": {},
   "outputs": [],
   "source": [
    "llm = Ollama(model=\"llama3.2\", base_url=\"http://127.0.0.1:11434\")"
   ]
  },
  {
   "cell_type": "code",
   "execution_count": 53,
   "metadata": {},
   "outputs": [],
   "source": [
    "embed_model = OllamaEmbeddings(\n",
    "    model=\"llama3.2\",\n",
    "    base_url='http://127.0.0.1:11434'\n",
    ")"
   ]
  },
  {
   "cell_type": "code",
   "execution_count": 54,
   "metadata": {},
   "outputs": [],
   "source": [
    "text = \"\"\"\n",
    "\n",
    "    Mr.beast youtube link =  https://www.youtube.com/channel/UCX6OQ3DkcsbYNE6H8uQQuVA\n",
    "    \"\"\""
   ]
  },
  {
   "cell_type": "code",
   "execution_count": 55,
   "metadata": {},
   "outputs": [],
   "source": [
    "text_splitter = RecursiveCharacterTextSplitter(chunk_size=512, chunk_overlap=128)\n",
    "chunks = text_splitter.split_text(text)"
   ]
  },
  {
   "cell_type": "code",
   "execution_count": 56,
   "metadata": {},
   "outputs": [],
   "source": [
    "vector_store = Chroma.from_texts(chunks, embed_model)"
   ]
  },
  {
   "cell_type": "code",
   "execution_count": 57,
   "metadata": {},
   "outputs": [],
   "source": [
    "retriever = vector_store.as_retriever()"
   ]
  },
  {
   "cell_type": "code",
   "execution_count": 58,
   "metadata": {},
   "outputs": [],
   "source": [
    "chain = create_retrieval_chain(combine_docs_chain=llm,retriever=retriever)"
   ]
  },
  {
   "cell_type": "code",
   "execution_count": 59,
   "metadata": {},
   "outputs": [],
   "source": [
    "from langchain.prompts import ChatPromptTemplate\n",
    "# RAG_prompt_template = \"\"\"\n",
    "\n",
    "#                 You are an assistant for question-answering tasks. Use the following pieces of \n",
    "#                 retrieved context to answer the question. If you don't know the answer, just say \n",
    "#                 that you don't know. Use three sentences maximum and keep the answer concise.\n",
    "#                 and give a youtube link such as.\n",
    "\n",
    "\n",
    "\n",
    "#                 Context: {context} \n",
    "#                 Answer:\n",
    "#                 \"\"\"\n",
    "\n",
    "RAG_prompt_template = \"\"\"\n",
    "You are an assistant for question-answering tasks. Use the following pieces of retrieved context to answer the question. If you don't know the answer, just say that you don't know. Use three sentences maximum and keep the answer concise. If the answer involves a resource, such as a video or article, include a relevant YouTube or website link if available.\n",
    "\n",
    "### Few-shot Examples ###\n",
    "Question: How can I learn Python for beginners?\n",
    "Context: A YouTube tutorial on Python basics and an online course are highly recommended.\n",
    "Answer: You can start with this YouTube tutorial: https://www.youtube.com/watch?v=rfscVS0vtbw. Alternatively, try an online course like Codecademy’s Python program.\n",
    "\n",
    "Question: What is quantum computing?\n",
    "Context: A website explaining quantum mechanics and a YouTube video providing an introduction.\n",
    "Answer: Quantum computing leverages the principles of quantum mechanics to process information. Check out this introduction video: https://www.youtube.com/watch?v=OWJCfOvochA or read more here: https://quantum.country/.\n",
    "\n",
    "### Your Turn ###\n",
    "Context: {context}\n",
    "Answer:\n",
    "\"\"\"\n",
    "\n",
    "# Question: {question} \n",
    "\n",
    "# RAG Prompt template\n",
    "retrieval_qa_chat_prompt = ChatPromptTemplate(\n",
    "    (\"human\",RAG_prompt_template),\n",
    ")\n",
    "\n",
    "# retrieval_qa_chat_prompt = hub.pull(\"langchain-ai/retrieval-qa-chat\")"
   ]
  },
  {
   "cell_type": "code",
   "execution_count": 60,
   "metadata": {},
   "outputs": [],
   "source": [
    "combine_docs_chain = create_stuff_documents_chain(\n",
    "    llm, retrieval_qa_chat_prompt\n",
    ")"
   ]
  },
  {
   "cell_type": "code",
   "execution_count": 61,
   "metadata": {},
   "outputs": [
    {
     "data": {
      "text/plain": [
       "ChatPromptTemplate(input_variables=['context'], input_types={}, partial_variables={}, messages=[HumanMessagePromptTemplate(prompt=PromptTemplate(input_variables=[], input_types={}, partial_variables={}, template='human'), additional_kwargs={}), HumanMessagePromptTemplate(prompt=PromptTemplate(input_variables=['context'], input_types={}, partial_variables={}, template=\"\\nYou are an assistant for question-answering tasks. Use the following pieces of retrieved context to answer the question. If you don't know the answer, just say that you don't know. Use three sentences maximum and keep the answer concise. If the answer involves a resource, such as a video or article, include a relevant YouTube or website link if available.\\n\\n### Few-shot Examples ###\\nQuestion: How can I learn Python for beginners?\\nContext: A YouTube tutorial on Python basics and an online course are highly recommended.\\nAnswer: You can start with this YouTube tutorial: https://www.youtube.com/watch?v=rfscVS0vtbw. Alternatively, try an online course like Codecademy’s Python program.\\n\\nQuestion: What is quantum computing?\\nContext: A website explaining quantum mechanics and a YouTube video providing an introduction.\\nAnswer: Quantum computing leverages the principles of quantum mechanics to process information. Check out this introduction video: https://www.youtube.com/watch?v=OWJCfOvochA or read more here: https://quantum.country/.\\n\\n### Your Turn ###\\nContext: {context}\\nAnswer:\\n\"), additional_kwargs={})])"
      ]
     },
     "execution_count": 61,
     "metadata": {},
     "output_type": "execute_result"
    }
   ],
   "source": [
    "retrieval_chain = create_retrieval_chain(retriever, combine_docs_chain)\n",
    "retrieval_qa_chat_prompt"
   ]
  },
  {
   "cell_type": "code",
   "execution_count": 64,
   "metadata": {},
   "outputs": [
    {
     "data": {
      "text/plain": [
       "{'input': 'Coco and Mango',\n",
       " 'context': [Document(metadata={}, page_content='Mr.beast youtube link is https://www.youtube.com/channel/UCX6OQ3DkcsbYNE6H8uQQuVA'),\n",
       "  Document(metadata={}, page_content='Mr.beast youtube link is https://www.youtube.com/channel/UCX6OQ3DkcsbYNE6H8uQQuVA'),\n",
       "  Document(metadata={}, page_content='Mr.beast youtube link =  https://www.youtube.com/channel/UCX6OQ3DkcsbYNE6H8uQQuVA'),\n",
       "  Document(metadata={}, page_content='Mr.beast youtube link =  https://www.youtube.com/channel/UCX6OQ3DkcsbYNE6H8uQQuVA')],\n",
       " 'answer': \"I think there's an error in the provided context. The correct format for answering a question would be to respond with three sentences maximum, like this:\\n\\nYou: Mr.beast youtube link is https://www.youtube.com/channel/UCX6OQ3DkcsbYNE6H8uQQuVA\\nAssistant: MrBeast's YouTube channel is known for its generosity and unique content. His videos often feature giveaways, challenges, and other exciting activities. You can find his channel by visiting the provided link.\\n\\nIf you'd like to ask another question or provide a new context, I'm here to help!\"}"
      ]
     },
     "execution_count": 64,
     "metadata": {},
     "output_type": "execute_result"
    }
   ],
   "source": [
    "response = retrieval_chain.invoke({\"input\":\"Coco and Mango\"})\n",
    "response"
   ]
  }
 ],
 "metadata": {
  "kernelspec": {
   "display_name": ".venv",
   "language": "python",
   "name": "python3"
  },
  "language_info": {
   "codemirror_mode": {
    "name": "ipython",
    "version": 3
   },
   "file_extension": ".py",
   "mimetype": "text/x-python",
   "name": "python",
   "nbconvert_exporter": "python",
   "pygments_lexer": "ipython3",
   "version": "3.10.15"
  }
 },
 "nbformat": 4,
 "nbformat_minor": 2
}
