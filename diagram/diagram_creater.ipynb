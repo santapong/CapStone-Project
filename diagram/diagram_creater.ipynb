{
 "cells": [
  {
   "cell_type": "markdown",
   "metadata": {},
   "source": [
    "# Import Library"
   ]
  },
  {
   "cell_type": "code",
   "execution_count": null,
   "metadata": {},
   "outputs": [],
   "source": [
    "from diagrams import Diagram, Cluster\n",
    "from diagrams.custom import Custom\n",
    "from urllib.request import urlretrieve"
   ]
  },
  {
   "cell_type": "markdown",
   "metadata": {},
   "source": [
    "# Example diagrams"
   ]
  },
  {
   "cell_type": "code",
   "execution_count": 1,
   "metadata": {},
   "outputs": [],
   "source": [
    "\n",
    "with Diagram(\"Custom with remote icons\", show=False, filename=\"custom_remote\", direction=\"LR\"):\n",
    "\n",
    "  # download the icon image file\n",
    "  diagrams_url = \"https://github.com/mingrammer/diagrams/raw/master/assets/img/diagrams.png\"\n",
    "  diagrams_icon = \"diagrams.png\"\n",
    "  urlretrieve(diagrams_url, diagrams_icon)\n",
    "\n",
    "  diagrams = Custom(\"Diagrams\", diagrams_icon)\n",
    "\n",
    "  with Cluster(\"Some Providers\"):\n",
    "\n",
    "    openstack_url = \"https://github.com/mingrammer/diagrams/raw/master/resources/openstack/openstack.png\"\n",
    "    openstack_icon = \"openstack.png\"\n",
    "    urlretrieve(openstack_url, openstack_icon)\n",
    "\n",
    "    openstack = Custom(\"OpenStack\", openstack_icon)\n",
    "\n",
    "    elastic_url = \"https://github.com/mingrammer/diagrams/raw/master/resources/elastic/saas/elastic.png\"\n",
    "    elastic_icon = \"elastic.png\"\n",
    "    urlretrieve(elastic_url, elastic_icon)\n",
    "\n",
    "    elastic = Custom(\"Elastic\", elastic_icon)\n",
    "\n",
    "  diagrams >> openstack\n",
    "  diagrams >> elastic"
   ]
  },
  {
   "cell_type": "markdown",
   "metadata": {},
   "source": [
    "# Architecture Diagram"
   ]
  },
  {
   "cell_type": "markdown",
   "metadata": {},
   "source": [
    "# Frontend Diagram"
   ]
  },
  {
   "cell_type": "markdown",
   "metadata": {},
   "source": [
    "# Backend Diagram"
   ]
  },
  {
   "cell_type": "markdown",
   "metadata": {},
   "source": [
    "# Rag Diagram"
   ]
  }
 ],
 "metadata": {
  "kernelspec": {
   "display_name": ".venv",
   "language": "python",
   "name": "python3"
  },
  "language_info": {
   "codemirror_mode": {
    "name": "ipython",
    "version": 3
   },
   "file_extension": ".py",
   "mimetype": "text/x-python",
   "name": "python",
   "nbconvert_exporter": "python",
   "pygments_lexer": "ipython3",
   "version": "3.10.15"
  }
 },
 "nbformat": 4,
 "nbformat_minor": 2
}
